{
 "cells": [
  {
   "cell_type": "code",
   "execution_count": 51,
   "metadata": {},
   "outputs": [],
   "source": [
    "import sqlparse\n",
    "import textwrap\n",
    "from matplotlib import pyplot as plt\n",
    "import sqlparse\n",
    "import textwrap\n",
    "from sqlparse.sql import Parenthesis,Function,Identifier, IdentifierList\n",
    "from sqlparse.tokens import Keyword, Name\n"
   ]
  },
  {
   "cell_type": "code",
   "execution_count": 2,
   "metadata": {},
   "outputs": [],
   "source": [
    "def get_fm_sql(file_path:str) -> str:\n",
    "\n",
    "    '''\n",
    "    Get formatted sql from file\n",
    "\n",
    "    Parameters\n",
    "    ----------\n",
    "    file_path : str\n",
    "\n",
    "    Returns\n",
    "    -------\n",
    "    indent_str : str\n",
    "    '''\n",
    "\n",
    "    with open(file_path, encoding='utf-8') as file:\n",
    "        content = file.read()\n",
    "        str_sql = sqlparse.format(content, reindent=True, keyword_case='upper')\n",
    "        str_sql = str_sql.strip(' \\t\\n;')\n",
    "        indent_str = textwrap.indent(str_sql, \"  \")\n",
    "    return indent_str"
   ]
  },
  {
   "cell_type": "code",
   "execution_count": 99,
   "metadata": {},
   "outputs": [
    {
     "name": "stdout",
     "output_type": "stream",
     "text": [
      "  CREATE TABLE IF NOT EXISTS POS.COMBINED\n",
      "    (SELECT CASE\n",
      "                WHEN tStock_In.shop IS NULL THEN tSale_qty.shop\n",
      "                ELSE tStock_In.shop\n",
      "            END AS shop,\n",
      "            CASE\n",
      "                WHEN tStock_In.prod IS NULL THEN tSale_qty.prod\n",
      "                ELSE tStock_In.prod\n",
      "            END AS prod,\n",
      "            pos110.pname,\n",
      "            pos110.pluno,\n",
      "            pos116.lprc,\n",
      "            CASE\n",
      "                WHEN tStock_In.stock_qty IS NULL THEN 0\n",
      "                ELSE tStock_In.stock_qty\n",
      "            END AS pre_stock_qty,\n",
      "            CASE\n",
      "                WHEN tStock_In.in_qty IS NULL THEN 0\n",
      "                ELSE tStock_In.in_qty\n",
      "            END AS in_qty,\n",
      "            CASE\n",
      "                WHEN tSale_qty.sale_qty IS NULL THEN 0\n",
      "                ELSE tSale_qty.sale_qty\n",
      "            END AS sale_qty,\n",
      "            CASE\n",
      "                WHEN tSale_qty.sale_qty IS NULL THEN (tStock_In.stock_qty + tStock_In.in_qty)\n",
      "                WHEN tStock_In.stock_qty IS NULL\n",
      "                     AND tStock_In.in_qty IS NULL THEN -tSale_qty.sale_qty\n",
      "                ELSE (tStock_In.stock_qty + tStock_In.in_qty - tSale_qty.sale_qty)\n",
      "            END AS new_stock_qty\n",
      "     FROM\n",
      "       (SELECT CASE\n",
      "                   WHEN tStock_qty.shop IS NULL THEN tInqty.shop\n",
      "                   ELSE tStock_qty.shop\n",
      "               END AS shop,\n",
      "               CASE\n",
      "                   WHEN tStock_qty.prod IS NULL THEN tInqty.prod\n",
      "                   ELSE tStock_qty.prod\n",
      "               END AS prod,\n",
      "               CASE\n",
      "                   WHEN tStock_qty.stock_qty IS NULL THEN 0\n",
      "                   ELSE tStock_qty.stock_qty\n",
      "               END AS stock_qty,\n",
      "               CASE\n",
      "                   WHEN tInqty.in_qty IS NULL THEN 0\n",
      "                   ELSE tInqty.in_qty\n",
      "               END AS in_qty\n",
      "        FROM\n",
      "          (SELECT product_stock.shop,\n",
      "                  product_stock.prod,\n",
      "                  product_stock.stock_qty\n",
      "           FROM product_stock\n",
      "           WHERE supp = '{$supp}'\n",
      "             AND grade_date = '{$grade_date}' ) AS tStock_qty\n",
      "        FULL OUTER JOIN\n",
      "          (SELECT pos204.shop,\n",
      "                  pos116.prod,\n",
      "                  cast(sum(pos204.inqty) AS integer) AS in_qty\n",
      "           FROM pos116\n",
      "           INNER JOIN pos204 ON pos116.prod = pos204.prod\n",
      "           AND pos204.indate >= '{$sdate}'\n",
      "           AND pos204.indate <= '{$edate}'\n",
      "           AND pos204.gctrl = '4'\n",
      "           WHERE pos116.supp = '{$supp}'\n",
      "             AND pos116.ano = '{$ano}'\n",
      "           GROUP BY pos204.shop,\n",
      "                    pos116.prod) AS tInqty ON tStock_qty.shop = tInqty.shop\n",
      "        AND tStock_qty.prod = tInqty.prod) AS tStock_In\n",
      "     FULL OUTER JOIN\n",
      "       (SELECT pos324.shop,\n",
      "               pos324.prod,\n",
      "               sum(pos324.qty) AS sale_qty\n",
      "        FROM pos324\n",
      "        INNER JOIN pos116 ON pos324.prod = pos116.prod\n",
      "        AND pos116.ano = '{$ano}'\n",
      "        AND pos116.supp = '{$supp}'\n",
      "        WHERE pos324.ecrdate >= '{$sdate}'\n",
      "          AND pos324.ecrdate <= '{$edate}'\n",
      "        GROUP BY pos324.shop,\n",
      "                 pos324.prod) AS tSale_qty ON tStock_In.shop = tSale_qty.shop\n",
      "     AND tStock_In.prod = tSale_qty.prod\n",
      "     INNER JOIN (pos110\n",
      "                 INNER JOIN pos116 ON pos110.prod = pos116.prod\n",
      "                 AND pos116.ano = '{$ano}'\n",
      "                 AND pos116.supp = '{$supp}') ON tStock_In.prod = pos116.prod\n",
      "     OR tSale_qty.prod = pos116.prod\n",
      "     ORDER BY tStock_In.shop,\n",
      "              tStock_In.prod)\n"
     ]
    }
   ],
   "source": [
    "sql = get_fm_sql('./exam.sql')\n",
    "print(sql)\n",
    "parse = sqlparse.parse(sql)"
   ]
  },
  {
   "cell_type": "code",
   "execution_count": 100,
   "metadata": {},
   "outputs": [
    {
     "data": {
      "text/plain": [
       "\"  CREATE TABLE IF NOT EXISTS POS.COMBINED\\n    (SELECT CASE\\n                WHEN tStock_In.shop IS NULL THEN tSale_qty.shop\\n                ELSE tStock_In.shop\\n            END AS shop,\\n            CASE\\n                WHEN tStock_In.prod IS NULL THEN tSale_qty.prod\\n                ELSE tStock_In.prod\\n            END AS prod,\\n            pos110.pname,\\n            pos110.pluno,\\n            pos116.lprc,\\n            CASE\\n                WHEN tStock_In.stock_qty IS NULL THEN 0\\n                ELSE tStock_In.stock_qty\\n            END AS pre_stock_qty,\\n            CASE\\n                WHEN tStock_In.in_qty IS NULL THEN 0\\n                ELSE tStock_In.in_qty\\n            END AS in_qty,\\n            CASE\\n                WHEN tSale_qty.sale_qty IS NULL THEN 0\\n                ELSE tSale_qty.sale_qty\\n            END AS sale_qty,\\n            CASE\\n                WHEN tSale_qty.sale_qty IS NULL THEN (tStock_In.stock_qty + tStock_In.in_qty)\\n                WHEN tStock_In.stock_qty IS NULL\\n                     AND tStock_In.in_qty IS NULL THEN -tSale_qty.sale_qty\\n                ELSE (tStock_In.stock_qty + tStock_In.in_qty - tSale_qty.sale_qty)\\n            END AS new_stock_qty\\n     FROM\\n       (SELECT CASE\\n                   WHEN tStock_qty.shop IS NULL THEN tInqty.shop\\n                   ELSE tStock_qty.shop\\n               END AS shop,\\n               CASE\\n                   WHEN tStock_qty.prod IS NULL THEN tInqty.prod\\n                   ELSE tStock_qty.prod\\n               END AS prod,\\n               CASE\\n                   WHEN tStock_qty.stock_qty IS NULL THEN 0\\n                   ELSE tStock_qty.stock_qty\\n               END AS stock_qty,\\n               CASE\\n                   WHEN tInqty.in_qty IS NULL THEN 0\\n                   ELSE tInqty.in_qty\\n               END AS in_qty\\n        FROM\\n          (SELECT product_stock.shop,\\n                  product_stock.prod,\\n                  product_stock.stock_qty\\n           FROM product_stock\\n           WHERE supp = '{$supp}'\\n             AND grade_date = '{$grade_date}' ) AS tStock_qty\\n        FULL OUTER JOIN\\n          (SELECT pos204.shop,\\n                  pos116.prod,\\n                  cast(sum(pos204.inqty) AS integer) AS in_qty\\n           FROM pos116\\n           INNER JOIN pos204 ON pos116.prod = pos204.prod\\n           AND pos204.indate >= '{$sdate}'\\n           AND pos204.indate <= '{$edate}'\\n           AND pos204.gctrl = '4'\\n           WHERE pos116.supp = '{$supp}'\\n             AND pos116.ano = '{$ano}'\\n           GROUP BY pos204.shop,\\n                    pos116.prod) AS tInqty ON tStock_qty.shop = tInqty.shop\\n        AND tStock_qty.prod = tInqty.prod) AS tStock_In\\n     FULL OUTER JOIN\\n       (SELECT pos324.shop,\\n               pos324.prod,\\n               sum(pos324.qty) AS sale_qty\\n        FROM pos324\\n        INNER JOIN pos116 ON pos324.prod = pos116.prod\\n        AND pos116.ano = '{$ano}'\\n        AND pos116.supp = '{$supp}'\\n        WHERE pos324.ecrdate >= '{$sdate}'\\n          AND pos324.ecrdate <= '{$edate}'\\n        GROUP BY pos324.shop,\\n                 pos324.prod) AS tSale_qty ON tStock_In.shop = tSale_qty.shop\\n     AND tStock_In.prod = tSale_qty.prod\\n     INNER JOIN (pos110\\n                 INNER JOIN pos116 ON pos110.prod = pos116.prod\\n                 AND pos116.ano = '{$ano}'\\n                 AND pos116.supp = '{$supp}') ON tStock_In.prod = pos116.prod\\n     OR tSale_qty.prod = pos116.prod\\n     ORDER BY tStock_In.shop,\\n              tStock_In.prod)\""
      ]
     },
     "execution_count": 100,
     "metadata": {},
     "output_type": "execute_result"
    }
   ],
   "source": [
    "sql"
   ]
  },
  {
   "cell_type": "code",
   "execution_count": null,
   "metadata": {},
   "outputs": [],
   "source": []
  },
  {
   "cell_type": "markdown",
   "metadata": {},
   "source": [
    "##### Test"
   ]
  },
  {
   "cell_type": "code",
   "execution_count": 102,
   "metadata": {},
   "outputs": [
    {
     "name": "stdout",
     "output_type": "stream",
     "text": [
      "['POS.COMBINED']\n"
     ]
    }
   ],
   "source": [
    "idfs_list = []\n",
    "for token in list(parse[0].tokens):\n",
    "    if token._get_repr_name() == 'Identifier':\n",
    "        idfs_list.append(token.value)\n",
    "\n",
    "print(idfs_list)"
   ]
  },
  {
   "cell_type": "code",
   "execution_count": 44,
   "metadata": {},
   "outputs": [
    {
     "ename": "IndexError",
     "evalue": "list index out of range",
     "output_type": "error",
     "traceback": [
      "\u001b[0;31m---------------------------------------------------------------------------\u001b[0m",
      "\u001b[0;31mIndexError\u001b[0m                                Traceback (most recent call last)",
      "\u001b[1;32m/Users/jayshih/Documents/Github/vscode/Recommend_Sys/DataSys/lineage_exam.ipynb 儲存格 8\u001b[0m line \u001b[0;36m1\n\u001b[0;32m----> <a href='vscode-notebook-cell:/Users/jayshih/Documents/Github/vscode/Recommend_Sys/DataSys/lineage_exam.ipynb#X23sZmlsZQ%3D%3D?line=0'>1</a>\u001b[0m idfs_list[\u001b[39m2\u001b[39;49m]\n",
      "\u001b[0;31mIndexError\u001b[0m: list index out of range"
     ]
    }
   ],
   "source": []
  },
  {
   "cell_type": "code",
   "execution_count": 103,
   "metadata": {},
   "outputs": [],
   "source": [
    "FUNCTION_OPERATIONS={'SELECT','DROP','INSERT','UPDATE','CREATE'}\n",
    "PRECEDES_TABLE_NAME = {'FROM', 'JOIN', 'DESC', 'DESCRIBE', 'WITH'}\n",
    "RESULT_OPERATIONS = {'UNION', 'INTERSECT', 'EXCEPT', 'SELECT'}\n",
    "table_names = []\n"
   ]
  },
  {
   "cell_type": "code",
   "execution_count": 104,
   "metadata": {},
   "outputs": [],
   "source": [
    "def is_identifier(token):\n",
    "    return isinstance(token, (IdentifierList, Identifier))"
   ]
  },
  {
   "cell_type": "code",
   "execution_count": 105,
   "metadata": {},
   "outputs": [],
   "source": [
    "# 檢核DDL字元\n",
    "def precedes_function_name(token_value):\n",
    "    for keyword in FUNCTION_OPERATIONS:\n",
    "        if keyword in token_value:\n",
    "            return True\n",
    "    return False"
   ]
  },
  {
   "cell_type": "code",
   "execution_count": 106,
   "metadata": {},
   "outputs": [],
   "source": [
    "def precedes_table_name(token_value):\n",
    "    for keyword in PRECEDES_TABLE_NAME:\n",
    "        if keyword in token_value:\n",
    "            return True\n",
    "    return False"
   ]
  },
  {
   "cell_type": "code",
   "execution_count": 107,
   "metadata": {},
   "outputs": [],
   "source": [
    "def is_result_operation(keyword):\n",
    "    for operation in RESULT_OPERATIONS:\n",
    "        if operation in keyword.upper():\n",
    "            return True\n",
    "    return False"
   ]
  },
  {
   "cell_type": "code",
   "execution_count": 108,
   "metadata": {},
   "outputs": [],
   "source": [
    "def process_identifier(identifier):\n",
    "    # 如果為子查詢，則遞迴處理\n",
    "    if '(' not in '{}'.format(identifier):\n",
    "        get_Identifier_keywords_tables(identifier)\n",
    "        return \n",
    "    _extract_table_from_token(identifier)"
   ]
  },
  {
   "cell_type": "code",
   "execution_count": 109,
   "metadata": {},
   "outputs": [],
   "source": [
    "def get_main_functionsql(statment):\n",
    "    return statment.get_type()"
   ]
  },
  {
   "cell_type": "code",
   "execution_count": 110,
   "metadata": {},
   "outputs": [],
   "source": [
    "# 第一层Identifier\n",
    "def _get_one_Identifier(statment):\n",
    "    idfr_list = []\n",
    "    tokens_list = statment.tokens\n",
    "    for each_token in tokens_list:\n",
    "        if each_token._get_repr_name() == 'Identifier':\n",
    "            idfr_list.append(each_token)\n",
    "    return idfr_list"
   ]
  },
  {
   "cell_type": "code",
   "execution_count": 111,
   "metadata": {},
   "outputs": [],
   "source": [
    "# 满足库.表形式的identifiers提取即判定为表\n",
    "def get_Identifier_keywords_tables(identifiers):\n",
    "    global table_names\n",
    "\n",
    "    # <tablename abbreviation>\n",
    "    if len(identifiers.tokens) == 3 and identifiers.tokens[1].value == ' ':\n",
    "        table_name = identifiers.tokens[0].value\n",
    "        return table_names.append(table_name)\n",
    "    \n",
    "    # <schema.tablename>\n",
    "    if len(identifiers.tokens) > 1 and identifiers.tokens[1].value == '.':\n",
    "        schema_name = identifiers.tokens[0].value\n",
    "        table_name = identifiers.tokens[2].value\n",
    "        db_table = (schema_name, table_name)\n",
    "        full_tree = '{}.{}'.format(schema_name, table_name)\n",
    "\n",
    "        if len(identifiers.tokens) == 3:\n",
    "            return table_names.append(full_tree)\n",
    "        \n",
    "        # <schema.tablename abbreviation>\n",
    "        else:\n",
    "            check_space = identifiers.tokens[3].value\n",
    "            abbr = identifiers.tokens[4].value\n",
    "            if check_space == ' ':\n",
    "                return table_names.append(full_tree)\n",
    "            # <multi schema.tablename>\n",
    "            full_tree = '{}.{}.{}'.format(schema_name, table_name, abbr)\n",
    "            return table_names.append(full_tree)\n",
    "    # <tablename>\n",
    "    if len(identifiers.tokens) == 1:\n",
    "        table_name = identifiers.tokens[0].value\n",
    "        return table_names.append(table_name)"
   ]
  },
  {
   "cell_type": "code",
   "execution_count": 112,
   "metadata": {},
   "outputs": [],
   "source": [
    "# 提底表表名\n",
    "def _extract_table_from_token(statment):\n",
    "\n",
    "    # 確認是否有tokens屬性\n",
    "    if not hasattr(statment, 'tokens'):\n",
    "        return\n",
    "    \n",
    "    # 可添加多个preceding_token\n",
    "    table_name_preceding_token = False\n",
    "\n",
    "    \n",
    "    for item in statment.tokens:\n",
    "        # 如果token本身還有子查詢的話就進入遞迴在進行一次剝洋蔥\n",
    "        if item.is_group and not is_identifier(item): # is_group: 是否有子查詢 # is_identifier: 是否為identifiers\n",
    "            _extract_table_from_token(item)\n",
    "\n",
    "        # 檢測token是否為關鍵字(DDL)\n",
    "        if item.ttype in Keyword:\n",
    "            # 有关键字的情况下可以判定存在表，那么直接跳到符合的情况下，剩余的token不再判断\n",
    "            if precedes_table_name(item.value.upper()): # 透過 precedes_table_name 確認是否為table\n",
    "                table_name_preceding_token = True\n",
    "                continue\n",
    "                # 那么直接跳到符合的情况下，剩余的token不再判断\n",
    "            \n",
    "        # 若token非關鍵字，跳出迴圈\n",
    "        if not table_name_preceding_token:\n",
    "            continue\n",
    "\n",
    "        # FROM 裏面的子查詢確認\n",
    "        if item.ttype in Keyword or item.value == ',':\n",
    "            if (is_result_operation(item.value) or\n",
    "                    item.value.upper() == 'ON'): # 透過內插DDL文字判斷是否為子查詢 並將 on 視為子查詢\n",
    "                table_name_preceding_token = False\n",
    "                continue\n",
    "            # FROM clause is over\n",
    "            break\n",
    "\n",
    "        # 只有identifiers和IdentifierList会有库.表\n",
    "        if isinstance(item, Identifier):\n",
    "            process_identifier(item)\n",
    "\n",
    "        if isinstance(item, IdentifierList):\n",
    "            for token in item.tokens:\n",
    "                if is_identifier(token):\n",
    "                    process_identifier(token)\n",
    "\n",
    "                # 该方法解析IdentifierList"
   ]
  },
  {
   "cell_type": "code",
   "execution_count": 113,
   "metadata": {},
   "outputs": [],
   "source": [
    "def blood_table(statment):\n",
    "    if precedes_function_name(get_main_functionsql(statment)):\n",
    "        idfr_list = _get_one_Identifier(statment)\n",
    "        get_Identifier_keywords_tables(idfr_list[0])\n",
    "    type_name = get_main_functionsql(statment)\n",
    "    _extract_table_from_token(statment)\n",
    "    inherit_table = table_names[0]\n",
    "    root_table = set(table_names[1:])\n",
    "    if get_main_functionsql(statment) != 'SELECT':\n",
    "        table_Bloodcurse = '{}->{}'.format(inherit_table, root_table)\n",
    "        return table_Bloodcurse\n",
    "    else:\n",
    "        table_Bloodcurse = set(table_names)\n",
    "        return table_Bloodcurse"
   ]
  },
  {
   "cell_type": "code",
   "execution_count": 114,
   "metadata": {},
   "outputs": [
    {
     "name": "stdout",
     "output_type": "stream",
     "text": [
      "POS.COMBINED->{'product_stock', 'pos116', 'pos324', 'pos204'}\n"
     ]
    }
   ],
   "source": [
    "for stmt in parse:\n",
    "    print(blood_table(stmt))"
   ]
  },
  {
   "cell_type": "code",
   "execution_count": null,
   "metadata": {},
   "outputs": [],
   "source": []
  },
  {
   "cell_type": "code",
   "execution_count": null,
   "metadata": {},
   "outputs": [],
   "source": []
  }
 ],
 "metadata": {
  "kernelspec": {
   "display_name": "DataSys-HDTnFZfJ",
   "language": "python",
   "name": "python3"
  },
  "language_info": {
   "codemirror_mode": {
    "name": "ipython",
    "version": 3
   },
   "file_extension": ".py",
   "mimetype": "text/x-python",
   "name": "python",
   "nbconvert_exporter": "python",
   "pygments_lexer": "ipython3",
   "version": "3.9.15"
  },
  "orig_nbformat": 4
 },
 "nbformat": 4,
 "nbformat_minor": 2
}
