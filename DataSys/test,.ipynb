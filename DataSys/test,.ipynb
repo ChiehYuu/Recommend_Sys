{
 "cells": [
  {
   "cell_type": "markdown",
   "metadata": {},
   "source": [
    "# 函式庫導入"
   ]
  },
  {
   "cell_type": "code",
   "execution_count": 4,
   "metadata": {},
   "outputs": [],
   "source": [
    "import sqlparse\n",
    "from matplotlib import pyplot as plt"
   ]
  },
  {
   "cell_type": "markdown",
   "metadata": {},
   "source": [
    "# SQL Module"
   ]
  },
  {
   "cell_type": "code",
   "execution_count": 5,
   "metadata": {},
   "outputs": [],
   "source": [
    "sql = \"\"\"\n",
    "CREATE TABLE Customer (\n",
    "        customer_id INT PRIMARY KEY,\n",
    "        first_name VARCHAR(50),\n",
    "        last_name VARCHAR(50)\n",
    "    );\n",
    "\n",
    "    CREATE TABLE Order (\n",
    "        order_id INT PRIMARY KEY,\n",
    "        order_date DATE,\n",
    "        customer_id INT,\n",
    "        FOREIGN KEY (customer_id) REFERENCES Customer(customer_id)\n",
    "    );\n",
    "\"\"\""
   ]
  },
  {
   "cell_type": "markdown",
   "metadata": {},
   "source": [
    "# SQL parsing break down"
   ]
  },
  {
   "cell_type": "code",
   "execution_count": 25,
   "metadata": {},
   "outputs": [],
   "source": [
    "import sqlparse"
   ]
  },
  {
   "cell_type": "code",
   "execution_count": 26,
   "metadata": {},
   "outputs": [],
   "source": [
    "# Define the SQL query\n",
    "sql_query = \"\"\"\n",
    "SELECT \n",
    "    c.first_name,\n",
    "    c.last_name,\n",
    "    o.order_id,\n",
    "    o.total_amount\n",
    "FROM \n",
    "    customers c\n",
    "JOIN \n",
    "    orders o ON c.customer_id = o.customer_id\n",
    "WHERE \n",
    "    o.total_amount > (\n",
    "        SELECT \n",
    "            AVG(total_amount)\n",
    "        FROM \n",
    "            orders\n",
    "        WHERE \n",
    "            customer_id IN (\n",
    "                SELECT \n",
    "                    customer_id\n",
    "                FROM \n",
    "                    customers\n",
    "                WHERE \n",
    "                    last_name = 'Doe'\n",
    "            )\n",
    "    );\n",
    "\"\"\""
   ]
  },
  {
   "cell_type": "code",
   "execution_count": 47,
   "metadata": {},
   "outputs": [],
   "source": [
    "sql = sqlparse.format(sql_query, reindent=True, keyword_case='upper')"
   ]
  },
  {
   "cell_type": "code",
   "execution_count": 49,
   "metadata": {},
   "outputs": [],
   "source": [
    "parse = sqlparse.parse(sql)"
   ]
  },
  {
   "cell_type": "code",
   "execution_count": 52,
   "metadata": {},
   "outputs": [
    {
     "data": {
      "text/plain": [
       "[<Newline ' ' at 0x1279ACE20>,\n",
       " <DML 'SELECT' at 0x1279AF340>,\n",
       " <Whitespace ' ' at 0x1279AF280>,\n",
       " <IdentifierList 'c.firs...' at 0x1279B3200>,\n",
       " <Newline ' ' at 0x1279B2EE0>,\n",
       " <Keyword 'FROM' at 0x1279B2F40>,\n",
       " <Whitespace ' ' at 0x1279B2FA0>,\n",
       " <Identifier 'custom...' at 0x1279A5F90>,\n",
       " <Newline ' ' at 0x1279B4160>,\n",
       " <Keyword 'JOIN' at 0x1279B41C0>,\n",
       " <Whitespace ' ' at 0x1279B4220>,\n",
       " <Identifier 'orders...' at 0x1279B3740>,\n",
       " <Whitespace ' ' at 0x1279B43A0>,\n",
       " <Keyword 'ON' at 0x1279B4400>,\n",
       " <Whitespace ' ' at 0x1279B4460>,\n",
       " <Comparison 'c.cust...' at 0x1279B3270>,\n",
       " <Newline ' ' at 0x1279B4820>,\n",
       " <Where 'WHERE ...' at 0x1279BA2E0>]"
      ]
     },
     "execution_count": 52,
     "metadata": {},
     "output_type": "execute_result"
    }
   ],
   "source": [
    "parse[0].tokens"
   ]
  },
  {
   "cell_type": "code",
   "execution_count": 64,
   "metadata": {},
   "outputs": [
    {
     "data": {
      "text/plain": [
       "<DML 'SELECT' at 0x1279AF340>"
      ]
     },
     "execution_count": 64,
     "metadata": {},
     "output_type": "execute_result"
    }
   ],
   "source": []
  },
  {
   "cell_type": "code",
   "execution_count": 68,
   "metadata": {},
   "outputs": [
    {
     "name": "stdout",
     "output_type": "stream",
     "text": [
      "-\n",
      "Token.Text.Whitespace.Newline \n",
      "\n",
      "-\n",
      "Token.Keyword.DML SELECT\n",
      "-\n",
      "Token.Text.Whitespace  \n",
      "-\n",
      "None c.first_name,\n",
      "       c.last_name,\n",
      "       o.order_id,\n",
      "       o.total_amount\n",
      "-\n",
      "Token.Text.Whitespace.Newline \n",
      "\n",
      "-\n",
      "Token.Keyword FROM\n",
      "-\n",
      "Token.Text.Whitespace  \n",
      "-\n",
      "None customers c\n",
      "-\n",
      "Token.Text.Whitespace.Newline \n",
      "\n",
      "-\n",
      "Token.Keyword JOIN\n",
      "-\n",
      "Token.Text.Whitespace  \n",
      "-\n",
      "None orders o\n",
      "-\n",
      "Token.Text.Whitespace  \n",
      "-\n",
      "Token.Keyword ON\n",
      "-\n",
      "Token.Text.Whitespace  \n",
      "-\n",
      "None c.customer_id = o.customer_id\n",
      "-\n",
      "Token.Text.Whitespace.Newline \n",
      "\n",
      "-\n",
      "None WHERE o.total_amount >\n",
      "    (SELECT AVG(total_amount)\n",
      "     FROM orders\n",
      "     WHERE customer_id IN\n",
      "         (SELECT customer_id\n",
      "          FROM customers\n",
      "          WHERE last_name = 'Doe' ) );\n",
      "FROM\n"
     ]
    }
   ],
   "source": [
    "for token in parse[0].tokens:\n",
    "    print('-')\n",
    "    print(token.ttype, token.value)\n",
    "# Loop through the WHERE clause tokens and print each one\n",
    "from_clause = None\n",
    "for token in parse[0].tokens:\n",
    "  if token.ttype is sqlparse.tokens.Keyword and token.value.upper() == 'FROM':\n",
    "  \tfrom_clause = token\n",
    "print(from_clause)\n",
    "# if from_clause:\n",
    "#   for token in from_clause.tokens:\n",
    "#   \tprint(token.ttype, token.value)"
   ]
  },
  {
   "cell_type": "code",
   "execution_count": 33,
   "metadata": {},
   "outputs": [],
   "source": [
    "def extract_table_relationships(parsed_query):\n",
    "    relationships = []\n",
    "\n",
    "    for stmt in parsed_query:\n",
    "        join_clause = None\n",
    "        on_clause = None\n",
    "\n",
    "        for token in stmt.tokens:\n",
    "            if token.is_keyword and token.value.upper() == 'JOIN':\n",
    "                join_clause = token\n",
    "\n",
    "            if join_clause and token.is_keyword and token.value.upper() == 'ON':\n",
    "                on_clause = token\n",
    "\n",
    "        if join_clause and on_clause:\n",
    "            # Extract table names from JOIN clause\n",
    "            tables = [t.get_real_name() for t in join_clause.tokens if t.ttype is None]\n",
    "            relationships.append((tables[0].strip(), tables[1].strip(), 'INNER JOIN'))\n",
    "\n",
    "            # Extract conditions from ON clause\n",
    "            conditions = [t.get_real_name() for t in on_clause.tokens if t.ttype is None]\n",
    "            relationships.append(('ON', conditions))\n",
    "\n",
    "    return relationships"
   ]
  },
  {
   "cell_type": "code",
   "execution_count": 46,
   "metadata": {},
   "outputs": [
    {
     "name": "stdout",
     "output_type": "stream",
     "text": [
      "0\n",
      "\n",
      "\n",
      "1\n",
      "SELECT\n",
      "2\n",
      " \n",
      "3\n",
      "\n",
      "\n",
      "4\n",
      " \n",
      "5\n",
      " \n",
      "6\n",
      " \n",
      "7\n",
      " \n",
      "8\n",
      "c.first_name,\n",
      "    c.last_name,\n",
      "    o.order_id,\n",
      "    o.total_amount\n",
      "9\n",
      "\n",
      "\n",
      "10\n",
      "FROM\n",
      "11\n",
      " \n",
      "12\n",
      "\n",
      "\n",
      "13\n",
      " \n",
      "14\n",
      " \n",
      "15\n",
      " \n",
      "16\n",
      " \n",
      "17\n",
      "customers c\n",
      "18\n",
      "\n",
      "\n",
      "19\n",
      "JOIN\n",
      "20\n",
      " \n",
      "21\n",
      "\n",
      "\n",
      "22\n",
      " \n",
      "23\n",
      " \n",
      "24\n",
      " \n",
      "25\n",
      " \n",
      "26\n",
      "orders o\n",
      "27\n",
      " \n",
      "28\n",
      "ON\n",
      "29\n",
      " \n",
      "30\n",
      "c.customer_id = o.customer_id\n",
      "31\n",
      "\n",
      "\n",
      "32\n",
      "WHERE \n",
      "    o.total_amount > (\n",
      "        SELECT \n",
      "            AVG(total_amount)\n",
      "        FROM \n",
      "            orders\n",
      "        WHERE \n",
      "            customer_id IN (\n",
      "                SELECT \n",
      "                    customer_id\n",
      "                FROM \n",
      "                    customers\n",
      "                WHERE \n",
      "                    last_name = 'Doe'\n",
      "            )\n",
      "    );\n"
     ]
    }
   ],
   "source": [
    "# Parse the SQL query\n",
    "parsed_query = sqlparse.parse(sql_query)\n",
    "\n",
    "relationships = []\n",
    "for stmt in parsed_query:\n",
    "    join_clause = None\n",
    "    on_clause = None\n",
    "    n=0\n",
    "    for token in stmt.tokens:\n",
    "        print(n)\n",
    "        print(token)\n",
    "        n+=1\n",
    "        # Extract table names from JOIN clause\n",
    "        # tables = [t.get_real_name() for t in join_clause.tokens if t.ttype is None]\n",
    "        # relationships.append((tables[0].strip(), tables[1].strip(), 'INNER JOIN'))\n",
    "\n",
    "        # # Extract conditions from ON clause\n",
    "        # conditions = [t.get_real_name() for t in on_clause.tokens if t.ttype is None]\n",
    "        # relationships.append(('ON', conditions))\n"
   ]
  },
  {
   "cell_type": "code",
   "execution_count": 45,
   "metadata": {},
   "outputs": [
    {
     "data": {
      "text/plain": [
       "'JOIN'"
      ]
     },
     "execution_count": 45,
     "metadata": {},
     "output_type": "execute_result"
    }
   ],
   "source": [
    "join_clause.value"
   ]
  },
  {
   "cell_type": "code",
   "execution_count": 34,
   "metadata": {},
   "outputs": [
    {
     "ename": "AttributeError",
     "evalue": "'Token' object has no attribute 'tokens'",
     "output_type": "error",
     "traceback": [
      "\u001b[0;31m---------------------------------------------------------------------------\u001b[0m",
      "\u001b[0;31mAttributeError\u001b[0m                            Traceback (most recent call last)",
      "\u001b[1;32m/Users/jayshih/Documents/Github/vscode/Recommend_Sys/DataSys/test,.ipynb 儲存格 9\u001b[0m line \u001b[0;36m5\n\u001b[1;32m      <a href='vscode-notebook-cell:/Users/jayshih/Documents/Github/vscode/Recommend_Sys/DataSys/test%2C.ipynb#X32sZmlsZQ%3D%3D?line=1'>2</a>\u001b[0m parsed_query \u001b[39m=\u001b[39m sqlparse\u001b[39m.\u001b[39mparse(sql_query)\n\u001b[1;32m      <a href='vscode-notebook-cell:/Users/jayshih/Documents/Github/vscode/Recommend_Sys/DataSys/test%2C.ipynb#X32sZmlsZQ%3D%3D?line=3'>4</a>\u001b[0m \u001b[39m# Extract table relationships\u001b[39;00m\n\u001b[0;32m----> <a href='vscode-notebook-cell:/Users/jayshih/Documents/Github/vscode/Recommend_Sys/DataSys/test%2C.ipynb#X32sZmlsZQ%3D%3D?line=4'>5</a>\u001b[0m relationships \u001b[39m=\u001b[39m extract_table_relationships(parsed_query)\n\u001b[1;32m      <a href='vscode-notebook-cell:/Users/jayshih/Documents/Github/vscode/Recommend_Sys/DataSys/test%2C.ipynb#X32sZmlsZQ%3D%3D?line=6'>7</a>\u001b[0m \u001b[39m# Print the relationships\u001b[39;00m\n\u001b[1;32m      <a href='vscode-notebook-cell:/Users/jayshih/Documents/Github/vscode/Recommend_Sys/DataSys/test%2C.ipynb#X32sZmlsZQ%3D%3D?line=7'>8</a>\u001b[0m \u001b[39mfor\u001b[39;00m relationship \u001b[39min\u001b[39;00m relationships:\n",
      "\u001b[1;32m/Users/jayshih/Documents/Github/vscode/Recommend_Sys/DataSys/test,.ipynb 儲存格 9\u001b[0m line \u001b[0;36m1\n\u001b[1;32m     <a href='vscode-notebook-cell:/Users/jayshih/Documents/Github/vscode/Recommend_Sys/DataSys/test%2C.ipynb#X32sZmlsZQ%3D%3D?line=12'>13</a>\u001b[0m         on_clause \u001b[39m=\u001b[39m token\n\u001b[1;32m     <a href='vscode-notebook-cell:/Users/jayshih/Documents/Github/vscode/Recommend_Sys/DataSys/test%2C.ipynb#X32sZmlsZQ%3D%3D?line=14'>15</a>\u001b[0m \u001b[39mif\u001b[39;00m join_clause \u001b[39mand\u001b[39;00m on_clause:\n\u001b[1;32m     <a href='vscode-notebook-cell:/Users/jayshih/Documents/Github/vscode/Recommend_Sys/DataSys/test%2C.ipynb#X32sZmlsZQ%3D%3D?line=15'>16</a>\u001b[0m     \u001b[39m# Extract table names from JOIN clause\u001b[39;00m\n\u001b[0;32m---> <a href='vscode-notebook-cell:/Users/jayshih/Documents/Github/vscode/Recommend_Sys/DataSys/test%2C.ipynb#X32sZmlsZQ%3D%3D?line=16'>17</a>\u001b[0m     tables \u001b[39m=\u001b[39m [t\u001b[39m.\u001b[39mget_real_name() \u001b[39mfor\u001b[39;00m t \u001b[39min\u001b[39;00m join_clause\u001b[39m.\u001b[39;49mtokens \u001b[39mif\u001b[39;00m t\u001b[39m.\u001b[39mttype \u001b[39mis\u001b[39;00m \u001b[39mNone\u001b[39;00m]\n\u001b[1;32m     <a href='vscode-notebook-cell:/Users/jayshih/Documents/Github/vscode/Recommend_Sys/DataSys/test%2C.ipynb#X32sZmlsZQ%3D%3D?line=17'>18</a>\u001b[0m     relationships\u001b[39m.\u001b[39mappend((tables[\u001b[39m0\u001b[39m]\u001b[39m.\u001b[39mstrip(), tables[\u001b[39m1\u001b[39m]\u001b[39m.\u001b[39mstrip(), \u001b[39m'\u001b[39m\u001b[39mINNER JOIN\u001b[39m\u001b[39m'\u001b[39m))\n\u001b[1;32m     <a href='vscode-notebook-cell:/Users/jayshih/Documents/Github/vscode/Recommend_Sys/DataSys/test%2C.ipynb#X32sZmlsZQ%3D%3D?line=19'>20</a>\u001b[0m     \u001b[39m# Extract conditions from ON clause\u001b[39;00m\n",
      "\u001b[0;31mAttributeError\u001b[0m: 'Token' object has no attribute 'tokens'"
     ]
    }
   ],
   "source": [
    "# Parse the SQL query\n",
    "parsed_query = sqlparse.parse(sql_query)\n",
    "\n",
    "# Extract table relationships\n",
    "relationships = extract_table_relationships(parsed_query)\n",
    "\n",
    "# Print the relationships\n",
    "for relationship in relationships:\n",
    "    print(relationship)\n"
   ]
  },
  {
   "cell_type": "markdown",
   "metadata": {},
   "source": [
    "# ERD 繪製"
   ]
  },
  {
   "cell_type": "code",
   "execution_count": 22,
   "metadata": {},
   "outputs": [
    {
     "name": "stdout",
     "output_type": "stream",
     "text": [
      "Token.Text.Whitespace.Newline  ,  \n",
      "\n",
      "Token.Keyword.DDL  ,  CREATE\n",
      "Token.Text.Whitespace  ,   \n",
      "Token.Keyword  ,  TABLE\n",
      "Token.Text.Whitespace  ,   \n",
      "None  ,  Customer\n",
      "Token.Text.Whitespace  ,   \n",
      "None  ,  (\n",
      "        customer_id INT PRIMARY KEY,\n",
      "        first_name VARCHAR(50),\n",
      "        last_name VARCHAR(50)\n",
      "    )\n",
      "Token.Punctuation  ,  ;\n"
     ]
    }
   ],
   "source": [
    "statements = sqlparse.parse(sql)\n",
    "section = statements[0]\n",
    "for token in section.tokens:\n",
    "    print(token.ttype,' , ', token.value)"
   ]
  },
  {
   "cell_type": "code",
   "execution_count": 17,
   "metadata": {},
   "outputs": [
    {
     "name": "stdout",
     "output_type": "stream",
     "text": [
      "0\n",
      "\n",
      "CREATE TABLE Customer (\n",
      "        customer_id INT PRIMARY KEY,\n",
      "        first_name VARCHAR(50),\n",
      "        last_name VARCHAR(50)\n",
      "    );\n",
      "1\n",
      "\n",
      "\n",
      "    CREATE TABLE Order (\n",
      "        order_id INT PRIMARY KEY,\n",
      "        order_date DATE,\n",
      "        customer_id INT,\n",
      "        FOREIGN KEY (customer_id) REFERENCES Customer(customer_id)\n",
      "    );\n"
     ]
    }
   ],
   "source": [
    "n=0\n",
    "for content in statements:\n",
    "    print(n)\n",
    "    print(content)\n",
    "    n+=1"
   ]
  },
  {
   "cell_type": "code",
   "execution_count": 19,
   "metadata": {},
   "outputs": [
    {
     "ename": "AttributeError",
     "evalue": "'tuple' object has no attribute 'token'",
     "output_type": "error",
     "traceback": [
      "\u001b[0;31m---------------------------------------------------------------------------\u001b[0m",
      "\u001b[0;31mAttributeError\u001b[0m                            Traceback (most recent call last)",
      "\u001b[1;32m/Users/jayshih/Documents/Github/vscode/Recommend_Sys/DataSys/test,.ipynb 儲存格 8\u001b[0m line \u001b[0;36m1\n\u001b[0;32m----> <a href='vscode-notebook-cell:/Users/jayshih/Documents/Github/vscode/Recommend_Sys/DataSys/test%2C.ipynb#X22sZmlsZQ%3D%3D?line=0'>1</a>\u001b[0m statements\u001b[39m.\u001b[39;49mtoken\n",
      "\u001b[0;31mAttributeError\u001b[0m: 'tuple' object has no attribute 'token'"
     ]
    }
   ],
   "source": []
  },
  {
   "cell_type": "code",
   "execution_count": 8,
   "metadata": {},
   "outputs": [
    {
     "data": {
      "text/plain": [
       "['CREATE TABLE Customer (\\n        customer_id INT PRIMARY KEY,\\n        first_name VARCHAR(50),\\n        last_name VARCHAR(50)\\n    );',\n",
       " 'CREATE TABLE Order (\\n        order_id INT PRIMARY KEY,\\n        order_date DATE,\\n        customer_id INT,\\n        FOREIGN KEY (customer_id) REFERENCES Customer(customer_id)\\n    );']"
      ]
     },
     "execution_count": 8,
     "metadata": {},
     "output_type": "execute_result"
    }
   ],
   "source": [
    "sqlparse.split(sql)"
   ]
  },
  {
   "cell_type": "code",
   "execution_count": 9,
   "metadata": {},
   "outputs": [
    {
     "ename": "AttributeError",
     "evalue": "'tuple' object has no attribute 'tokens'",
     "output_type": "error",
     "traceback": [
      "\u001b[0;31m---------------------------------------------------------------------------\u001b[0m",
      "\u001b[0;31mAttributeError\u001b[0m                            Traceback (most recent call last)",
      "\u001b[1;32m/Users/jayshih/Documents/Github/vscode/Recommend_Sys/DataSys/test,.ipynb 儲存格 8\u001b[0m line \u001b[0;36m1\n\u001b[0;32m----> <a href='vscode-notebook-cell:/Users/jayshih/Documents/Github/vscode/Recommend_Sys/DataSys/test%2C.ipynb#X16sZmlsZQ%3D%3D?line=0'>1</a>\u001b[0m statements\u001b[39m.\u001b[39;49mtokens\n",
      "\u001b[0;31mAttributeError\u001b[0m: 'tuple' object has no attribute 'tokens'"
     ]
    }
   ],
   "source": []
  },
  {
   "cell_type": "code",
   "execution_count": 11,
   "metadata": {},
   "outputs": [
    {
     "ename": "AttributeError",
     "evalue": "'Token' object has no attribute 'get_real_name'",
     "output_type": "error",
     "traceback": [
      "\u001b[0;31m---------------------------------------------------------------------------\u001b[0m",
      "\u001b[0;31mAttributeError\u001b[0m                            Traceback (most recent call last)",
      "\u001b[1;32m/Users/jayshih/Documents/Github/vscode/Recommend_Sys/DataSys/test,.ipynb 儲存格 9\u001b[0m line \u001b[0;36m8\n\u001b[1;32m      <a href='vscode-notebook-cell:/Users/jayshih/Documents/Github/vscode/Recommend_Sys/DataSys/test%2C.ipynb#X15sZmlsZQ%3D%3D?line=5'>6</a>\u001b[0m \u001b[39mfor\u001b[39;00m token \u001b[39min\u001b[39;00m tokens:\n\u001b[1;32m      <a href='vscode-notebook-cell:/Users/jayshih/Documents/Github/vscode/Recommend_Sys/DataSys/test%2C.ipynb#X15sZmlsZQ%3D%3D?line=6'>7</a>\u001b[0m     \u001b[39mif\u001b[39;00m token\u001b[39m.\u001b[39mttype \u001b[39m==\u001b[39m sqlparse\u001b[39m.\u001b[39mtokens\u001b[39m.\u001b[39mKeyword \u001b[39mand\u001b[39;00m token\u001b[39m.\u001b[39mvalue\u001b[39m.\u001b[39mupper() \u001b[39m==\u001b[39m \u001b[39m'\u001b[39m\u001b[39mTABLE\u001b[39m\u001b[39m'\u001b[39m:\n\u001b[0;32m----> <a href='vscode-notebook-cell:/Users/jayshih/Documents/Github/vscode/Recommend_Sys/DataSys/test%2C.ipynb#X15sZmlsZQ%3D%3D?line=7'>8</a>\u001b[0m         entity_name \u001b[39m=\u001b[39m tokens[tokens\u001b[39m.\u001b[39;49mindex(token) \u001b[39m+\u001b[39;49m \u001b[39m2\u001b[39;49m]\u001b[39m.\u001b[39;49mget_real_name()\n\u001b[1;32m      <a href='vscode-notebook-cell:/Users/jayshih/Documents/Github/vscode/Recommend_Sys/DataSys/test%2C.ipynb#X15sZmlsZQ%3D%3D?line=8'>9</a>\u001b[0m     \u001b[39mif\u001b[39;00m token\u001b[39m.\u001b[39mttype \u001b[39m==\u001b[39m sqlparse\u001b[39m.\u001b[39mtokens\u001b[39m.\u001b[39mKeyword \u001b[39mand\u001b[39;00m token\u001b[39m.\u001b[39mvalue\u001b[39m.\u001b[39mupper() \u001b[39m==\u001b[39m \u001b[39m'\u001b[39m\u001b[39mFOREIGN\u001b[39m\u001b[39m'\u001b[39m:\n\u001b[1;32m     <a href='vscode-notebook-cell:/Users/jayshih/Documents/Github/vscode/Recommend_Sys/DataSys/test%2C.ipynb#X15sZmlsZQ%3D%3D?line=9'>10</a>\u001b[0m         fk_column \u001b[39m=\u001b[39m tokens[tokens\u001b[39m.\u001b[39mindex(token) \u001b[39m+\u001b[39m \u001b[39m2\u001b[39m]\u001b[39m.\u001b[39mget_real_name()\n",
      "\u001b[0;31mAttributeError\u001b[0m: 'Token' object has no attribute 'get_real_name'"
     ]
    }
   ],
   "source": [
    "for statement in statements:\n",
    "    if statement.get_type() == 'CREATE':\n",
    "        tokens = statement.tokens        \n",
    "        entity_name = None\n",
    "        attributes = []\n",
    "        for token in tokens:\n",
    "            \n",
    "            if token.ttype == sqlparse.tokens.Keyword and token.value.upper() == 'TABLE':\n",
    "                entity_name = tokens[tokens.index(token) + 2].get_real_name()\n",
    "            if token.ttype == sqlparse.tokens.Keyword and token.value.upper() == 'FOREIGN':\n",
    "                fk_column = tokens[tokens.index(token) + 2].get_real_name()\n",
    "                ref_table = tokens[tokens.index(token) + 6].get_real_name()\n",
    "                ref_column = tokens[tokens.index(token) + 8].get_real_name()\n",
    "                relationships.append((entity_name, ref_table, fk_column, ref_column))\n",
    "            if token.ttype == sqlparse.tokens.Keyword and token.value.upper() == 'PRIMARY':\n",
    "                pk_column = tokens[tokens.index(token) + 6].get_real_name()\n",
    "                attributes.append(pk_column)\n",
    "            if token.ttype == sqlparse.tokens.Name and tokens[tokens.index(token) + 1].value.upper() == 'VARCHAR':\n",
    "                attributes.append(token.get_real_name())\n",
    "        tables.append((entity_name, attributes))"
   ]
  },
  {
   "cell_type": "code",
   "execution_count": 23,
   "metadata": {},
   "outputs": [],
   "source": [
    "#導入套件，開始使用的前置步驟\n",
    "from graphviz import Digraph\n",
    "dot = Digraph(comment='The Round Table')\n",
    "#新增一個點 A，顯示名稱為 QQ\n",
    "dot.node('A', label = 'QQ') \n",
    "#新增一個點 B，顯示名稱為 www\n",
    "dot.node('B', label = 'www')\n",
    "#新增一個從點 A 到點 B 的邊，顯示名稱為 Like\n",
    "dot.edge(\"A\", \"B\", label = \"Like\")"
   ]
  },
  {
   "cell_type": "code",
   "execution_count": 24,
   "metadata": {},
   "outputs": [
    {
     "data": {
      "image/svg+xml": [
       "<?xml version=\"1.0\" encoding=\"UTF-8\" standalone=\"no\"?>\n",
       "<!DOCTYPE svg PUBLIC \"-//W3C//DTD SVG 1.1//EN\"\n",
       " \"http://www.w3.org/Graphics/SVG/1.1/DTD/svg11.dtd\">\n",
       "<!-- Generated by graphviz version 9.0.0 (20230911.1827)\n",
       " -->\n",
       "<!-- Pages: 1 -->\n",
       "<svg width=\"122pt\" height=\"240pt\"\n",
       " viewBox=\"0.00 0.00 121.50 240.35\" xmlns=\"http://www.w3.org/2000/svg\" xmlns:xlink=\"http://www.w3.org/1999/xlink\">\n",
       "<g id=\"graph0\" class=\"graph\" transform=\"scale(1 1) rotate(0) translate(4 236.35)\">\n",
       "<polygon fill=\"white\" stroke=\"none\" points=\"-4,4 -4,-236.35 117.5,-236.35 117.5,4 -4,4\"/>\n",
       "<!-- 剪刀 -->\n",
       "<g id=\"node1\" class=\"node\">\n",
       "<title>剪刀</title>\n",
       "<ellipse fill=\"none\" stroke=\"black\" cx=\"59\" cy=\"-212.38\" rx=\"31.47\" ry=\"19.98\"/>\n",
       "<text text-anchor=\"middle\" x=\"59\" y=\"-209.2\" font-family=\"Times,serif\" font-size=\"14.00\">剪刀</text>\n",
       "</g>\n",
       "<!-- 布 -->\n",
       "<g id=\"node3\" class=\"node\">\n",
       "<title>布</title>\n",
       "<ellipse fill=\"none\" stroke=\"black\" cx=\"27\" cy=\"-116.18\" rx=\"27\" ry=\"19.98\"/>\n",
       "<text text-anchor=\"middle\" x=\"27\" y=\"-113\" font-family=\"Times,serif\" font-size=\"14.00\">布</text>\n",
       "</g>\n",
       "<!-- 剪刀&#45;&gt;布 -->\n",
       "<g id=\"edge1\" class=\"edge\">\n",
       "<title>剪刀&#45;&gt;布</title>\n",
       "<path fill=\"none\" stroke=\"black\" d=\"M52.68,-192.77C48.24,-179.69 42.2,-161.93 37.1,-146.9\"/>\n",
       "<polygon fill=\"black\" stroke=\"black\" points=\"40.44,-145.85 33.91,-137.51 33.81,-148.1 40.44,-145.85\"/>\n",
       "<text text-anchor=\"middle\" x=\"60.25\" y=\"-161.1\" font-family=\"Times,serif\" font-size=\"14.00\">克制</text>\n",
       "</g>\n",
       "<!-- 石頭 -->\n",
       "<g id=\"node2\" class=\"node\">\n",
       "<title>石頭</title>\n",
       "<ellipse fill=\"none\" stroke=\"black\" cx=\"59\" cy=\"-19.98\" rx=\"31.47\" ry=\"19.98\"/>\n",
       "<text text-anchor=\"middle\" x=\"59\" y=\"-16.8\" font-family=\"Times,serif\" font-size=\"14.00\">石頭</text>\n",
       "</g>\n",
       "<!-- 石頭&#45;&gt;剪刀 -->\n",
       "<g id=\"edge2\" class=\"edge\">\n",
       "<title>石頭&#45;&gt;剪刀</title>\n",
       "<path fill=\"none\" stroke=\"black\" d=\"M69.28,-39.24C72.02,-45.04 74.61,-51.6 76,-57.95 87.07,-108.51 87.07,-123.84 76,-174.4 75.41,-177.08 74.61,-179.8 73.68,-182.48\"/>\n",
       "<polygon fill=\"black\" stroke=\"black\" points=\"70.45,-181.14 69.86,-191.72 76.92,-183.81 70.45,-181.14\"/>\n",
       "<text text-anchor=\"middle\" x=\"99.25\" y=\"-113\" font-family=\"Times,serif\" font-size=\"14.00\">克制</text>\n",
       "</g>\n",
       "<!-- 布&#45;&gt;石頭 -->\n",
       "<g id=\"edge3\" class=\"edge\">\n",
       "<title>布&#45;&gt;石頭</title>\n",
       "<path fill=\"none\" stroke=\"black\" d=\"M33.32,-96.57C37.76,-83.49 43.8,-65.72 48.9,-50.7\"/>\n",
       "<polygon fill=\"black\" stroke=\"black\" points=\"52.19,-51.9 52.09,-41.3 45.56,-49.65 52.19,-51.9\"/>\n",
       "<text text-anchor=\"middle\" x=\"60.25\" y=\"-64.9\" font-family=\"Times,serif\" font-size=\"14.00\">克制</text>\n",
       "</g>\n",
       "</g>\n",
       "</svg>\n"
      ],
      "text/plain": [
       "<graphviz.graphs.Digraph at 0x124ae2bb0>"
      ]
     },
     "execution_count": 24,
     "metadata": {},
     "output_type": "execute_result"
    }
   ],
   "source": [
    "dot = Digraph(comment='The Round Table')\n",
    "names = ['剪刀', '石頭', '布']\n",
    "for i in names:  #新增三個結點，分別叫做剪刀石頭布\n",
    "    dot.node(i, i)\n",
    "for i in range(len(names)): #將互相克制的關係畫上去\n",
    "    dot.edge(names[i], names[i-1], \"克制\")\n",
    "dot\n"
   ]
  },
  {
   "cell_type": "code",
   "execution_count": null,
   "metadata": {},
   "outputs": [],
   "source": []
  }
 ],
 "metadata": {
  "kernelspec": {
   "display_name": "DataSys-HDTnFZfJ",
   "language": "python",
   "name": "python3"
  },
  "language_info": {
   "codemirror_mode": {
    "name": "ipython",
    "version": 3
   },
   "file_extension": ".py",
   "mimetype": "text/x-python",
   "name": "python",
   "nbconvert_exporter": "python",
   "pygments_lexer": "ipython3",
   "version": "3.9.15"
  },
  "orig_nbformat": 4
 },
 "nbformat": 4,
 "nbformat_minor": 2
}
